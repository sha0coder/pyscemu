{
 "cells": [
  {
   "cell_type": "markdown",
   "id": "abba969b-d0b4-452a-96ff-24e13d7dabed",
   "metadata": {},
   "source": [
    "## Emulating Danabot RSA keypair"
   ]
  },
  {
   "cell_type": "code",
   "execution_count": null,
   "id": "71999e76-6823-4f68-b6ad-5dcf1f5f386a",
   "metadata": {
    "tags": []
   },
   "outputs": [],
   "source": [
    "import pyscemu\n",
    "\n",
    "emu = pyscemu.init32()\n",
    "emu.load_maps('/home/sha0/src/scemu/maps32/')\n",
    "emu.load_binary('/home/sha0/samples/danabot/2023-04-03-MainModule/unpacked2/dbmm_unpacked.dll')\n",
    "emu.set_verbose(3)\n",
    "emu.set_base_address(0x1E70000)\n",
    "emu.enable_banzai_mode()\n",
    "rsa_keygen = 0x022EBBC0 \n",
    "\n",
    "\n",
    "public_key_ptr = emu.alloc(\"pubkey\", 1024)\n",
    "private_key_ptr = emu.alloc(\"privkey\", 1024)\n",
    "pub_ptr = emu.alloc(\"pub_ptr\", 4)\n",
    "priv_ptr = emu.alloc(\"priv_ptr\", 4)\n",
    "\n",
    "emu.write_dword(pub_ptr, public_key_ptr)\n",
    "emu.write_dword(priv_ptr, private_key_ptr)\n",
    "\n",
    "emu.enable_trace_reg(['eax'])\n",
    "\n",
    "emu.set_reg('eax', pub_ptr)\n",
    "emu.set_reg('edx', priv_ptr)\n",
    "\n",
    "\n",
    "emu.call(rsa_keygen,[priv_ptr, pub_ptr])\n"
   ]
  },
  {
   "cell_type": "code",
   "execution_count": null,
   "id": "77cfab8c-f385-4d95-a3e5-c2a0455a0ea8",
   "metadata": {},
   "outputs": [],
   "source": []
  },
  {
   "cell_type": "code",
   "execution_count": null,
   "id": "83c45d63-a00b-4f43-b9fe-9137f5c0f94b",
   "metadata": {},
   "outputs": [],
   "source": []
  }
 ],
 "metadata": {
  "kernelspec": {
   "display_name": "Python 3",
   "language": "python",
   "name": "python3"
  },
  "language_info": {
   "codemirror_mode": {
    "name": "ipython",
    "version": 3
   },
   "file_extension": ".py",
   "mimetype": "text/x-python",
   "name": "python",
   "nbconvert_exporter": "python",
   "pygments_lexer": "ipython3",
   "version": "3.9.2"
  }
 },
 "nbformat": 4,
 "nbformat_minor": 5
}

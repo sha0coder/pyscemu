{
 "cells": [
  {
   "cell_type": "markdown",
   "id": "d9ca9896-ea9b-4d66-8a83-c80247039de1",
   "metadata": {},
   "source": [
    "## Emulate xloader keygen"
   ]
  },
  {
   "cell_type": "code",
   "execution_count": 1,
   "id": "6c9e815f-860a-4a92-b60e-6d211af51a82",
   "metadata": {
    "tags": []
   },
   "outputs": [
    {
     "name": "stdout",
     "output_type": "stream",
     "text": [
      "RC4 KEY1: 3ce3fb3cc964415022dc8b9b042715fa2d1d2727\n"
     ]
    }
   ],
   "source": [
    "import pyscemu\n",
    "import sys\n",
    "\n",
    "emu = pyscemu.init32()\n",
    "emu.load_maps('/home/sha0/src/scemu/maps32/')\n",
    "emu.load_binary('/home/sha0/samples/formbook/xloader/2022-10-05/unpacked.bin')\n",
    "\n",
    "buff = emu.alloc(\"struct_buff\", 1024*2)\n",
    "\n",
    "\n",
    "xloader_key1_keygen = 0x3DB687\n",
    "key_off = 1980\n",
    "prekey_off = 1096\n",
    "\n",
    "emu.set_verbose(0)\n",
    "\n",
    "# emulate keygen function and all its sub-functions\n",
    "eax = emu.call32(xloader_key1_keygen, [buff])\n",
    "\n",
    "key1 = emu.read_bytes(buff+key_off, 20)\n",
    "print('RC4 KEY1: '+key1.hex())"
   ]
  },
  {
   "cell_type": "code",
   "execution_count": null,
   "id": "5d3ff859-ec82-45ec-9625-51e5508c936a",
   "metadata": {},
   "outputs": [],
   "source": []
  }
 ],
 "metadata": {
  "kernelspec": {
   "display_name": "Python 3",
   "language": "python",
   "name": "python3"
  },
  "language_info": {
   "codemirror_mode": {
    "name": "ipython",
    "version": 3
   },
   "file_extension": ".py",
   "mimetype": "text/x-python",
   "name": "python",
   "nbconvert_exporter": "python",
   "pygments_lexer": "ipython3",
   "version": "3.9.2"
  }
 },
 "nbformat": 4,
 "nbformat_minor": 5
}
